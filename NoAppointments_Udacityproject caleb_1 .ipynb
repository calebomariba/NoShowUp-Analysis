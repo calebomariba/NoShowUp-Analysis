{
 "cells": [
  {
   "cell_type": "markdown",
   "id": "cf2993d2-d937-4e45-8fbf-3ee4b594dbde",
   "metadata": {},
   "source": [
    "\n",
    "# **Project: Medical appointments No show-up as scheduled in Brazil Data Analysis.**\n",
    "## Table of Contents\n",
    "<ul>\n",
    "<li><a href=\"#intro\">Introduction</a></li>\n",
    "<li><a href=\"#wrangling\">Data Wrangling</a></li>\n",
    "<li><a href=\"#eda\">Exploratory Data Analysis</a></li>\n",
    "<li><a href=\"#conclusions\">Conclusions</a></li>\n",
    "</ul>"
   ]
  },
  {
   "cell_type": "markdown",
   "id": "6cd70a85-76f8-437f-9219-6092ba2d86aa",
   "metadata": {
    "tags": []
   },
   "source": [
    "<a id='intro'></a>\n",
    "## Introduction\n",
    "\n",
    "### Dataset Description.\n",
    ">This dataset contains information of 100k medical appointments in Brazil and its aim is to determine if patients show up or do not show up for their scheduled medical appointments.Our aim is to analyse how various features are related to patients showing up or failing to show up for their scheduled medical appointments.\n",
    "\n",
    "> Here is a description of some of the key features in the dataset that need keen attention:\n",
    ">    * **ScheduledDay** :tells us on what day the patient set up their appointment.\n",
    ">    * **Neighborhood** :indicates the location of the hospital.\n",
    ">    * **Scholarship**  :indicates whether or not the patient is enrolled in Brasilian welfare program Bolsa Família.  \n",
    ">    * **Be careful about the encoding of the last column: it says ‘No’ if the patient showed up to their appointment, and ‘Yes’ if they did not show up.**\n",
    "\n",
    "\n",
    "### Key questions for Analysis we need to answer.\n",
    ">\n",
    ">    1. How does gender relate to showing up to the appointment?\n",
    ">    2. Does having a particular diseases have a relationship with showing up for the appointment?\n",
    ">    3. Does one's age relate to not showing up for the appointment?\n",
    ">    4. How does one having schorlaship relate to a patient showing up for the appointment?\n",
    ">    5. Does recieving sms relate to one showing up for the appointment?\n",
    ">    \n",
    ">   \n",
    ">"
   ]
  },
  {
   "cell_type": "markdown",
   "id": "16434ef8-82b7-43b2-80c3-e47aad2f7af0",
   "metadata": {},
   "source": [
    "## **Data Wrangling.**\n",
    "### Getting general understanding of the data. "
   ]
  },
  {
   "cell_type": "code",
   "execution_count": 101,
   "id": "fb4c8187-6b8d-425b-b031-b7da82834ad5",
   "metadata": {},
   "outputs": [],
   "source": [
    "#importing necessary libraries for project use.\n",
    "import pandas as pd\n",
    "import matplotlib.pyplot as plt\n",
    "import seaborn as sns\n",
    "%matplotlib inline\n",
    "sns.set()\n"
   ]
  },
  {
   "cell_type": "code",
   "execution_count": 102,
   "id": "382c2c09-c880-45ce-81f8-5be642f95fcd",
   "metadata": {},
   "outputs": [
    {
     "data": {
      "text/html": [
       "<div>\n",
       "<style scoped>\n",
       "    .dataframe tbody tr th:only-of-type {\n",
       "        vertical-align: middle;\n",
       "    }\n",
       "\n",
       "    .dataframe tbody tr th {\n",
       "        vertical-align: top;\n",
       "    }\n",
       "\n",
       "    .dataframe thead th {\n",
       "        text-align: right;\n",
       "    }\n",
       "</style>\n",
       "<table border=\"1\" class=\"dataframe\">\n",
       "  <thead>\n",
       "    <tr style=\"text-align: right;\">\n",
       "      <th></th>\n",
       "      <th>PatientId</th>\n",
       "      <th>AppointmentID</th>\n",
       "      <th>Gender</th>\n",
       "      <th>ScheduledDay</th>\n",
       "      <th>AppointmentDay</th>\n",
       "      <th>Age</th>\n",
       "      <th>Neighbourhood</th>\n",
       "      <th>Scholarship</th>\n",
       "      <th>Hipertension</th>\n",
       "      <th>Diabetes</th>\n",
       "      <th>Alcoholism</th>\n",
       "      <th>Handcap</th>\n",
       "      <th>SMS_received</th>\n",
       "      <th>No-show</th>\n",
       "    </tr>\n",
       "  </thead>\n",
       "  <tbody>\n",
       "    <tr>\n",
       "      <th>0</th>\n",
       "      <td>2.987250e+13</td>\n",
       "      <td>5642903</td>\n",
       "      <td>F</td>\n",
       "      <td>2016-04-29T18:38:08Z</td>\n",
       "      <td>2016-04-29T00:00:00Z</td>\n",
       "      <td>62</td>\n",
       "      <td>JARDIM DA PENHA</td>\n",
       "      <td>0</td>\n",
       "      <td>1</td>\n",
       "      <td>0</td>\n",
       "      <td>0</td>\n",
       "      <td>0</td>\n",
       "      <td>0</td>\n",
       "      <td>No</td>\n",
       "    </tr>\n",
       "    <tr>\n",
       "      <th>1</th>\n",
       "      <td>5.589978e+14</td>\n",
       "      <td>5642503</td>\n",
       "      <td>M</td>\n",
       "      <td>2016-04-29T16:08:27Z</td>\n",
       "      <td>2016-04-29T00:00:00Z</td>\n",
       "      <td>56</td>\n",
       "      <td>JARDIM DA PENHA</td>\n",
       "      <td>0</td>\n",
       "      <td>0</td>\n",
       "      <td>0</td>\n",
       "      <td>0</td>\n",
       "      <td>0</td>\n",
       "      <td>0</td>\n",
       "      <td>No</td>\n",
       "    </tr>\n",
       "    <tr>\n",
       "      <th>2</th>\n",
       "      <td>4.262962e+12</td>\n",
       "      <td>5642549</td>\n",
       "      <td>F</td>\n",
       "      <td>2016-04-29T16:19:04Z</td>\n",
       "      <td>2016-04-29T00:00:00Z</td>\n",
       "      <td>62</td>\n",
       "      <td>MATA DA PRAIA</td>\n",
       "      <td>0</td>\n",
       "      <td>0</td>\n",
       "      <td>0</td>\n",
       "      <td>0</td>\n",
       "      <td>0</td>\n",
       "      <td>0</td>\n",
       "      <td>No</td>\n",
       "    </tr>\n",
       "    <tr>\n",
       "      <th>3</th>\n",
       "      <td>8.679512e+11</td>\n",
       "      <td>5642828</td>\n",
       "      <td>F</td>\n",
       "      <td>2016-04-29T17:29:31Z</td>\n",
       "      <td>2016-04-29T00:00:00Z</td>\n",
       "      <td>8</td>\n",
       "      <td>PONTAL DE CAMBURI</td>\n",
       "      <td>0</td>\n",
       "      <td>0</td>\n",
       "      <td>0</td>\n",
       "      <td>0</td>\n",
       "      <td>0</td>\n",
       "      <td>0</td>\n",
       "      <td>No</td>\n",
       "    </tr>\n",
       "    <tr>\n",
       "      <th>4</th>\n",
       "      <td>8.841186e+12</td>\n",
       "      <td>5642494</td>\n",
       "      <td>F</td>\n",
       "      <td>2016-04-29T16:07:23Z</td>\n",
       "      <td>2016-04-29T00:00:00Z</td>\n",
       "      <td>56</td>\n",
       "      <td>JARDIM DA PENHA</td>\n",
       "      <td>0</td>\n",
       "      <td>1</td>\n",
       "      <td>1</td>\n",
       "      <td>0</td>\n",
       "      <td>0</td>\n",
       "      <td>0</td>\n",
       "      <td>No</td>\n",
       "    </tr>\n",
       "  </tbody>\n",
       "</table>\n",
       "</div>"
      ],
      "text/plain": [
       "      PatientId  AppointmentID Gender          ScheduledDay  \\\n",
       "0  2.987250e+13        5642903      F  2016-04-29T18:38:08Z   \n",
       "1  5.589978e+14        5642503      M  2016-04-29T16:08:27Z   \n",
       "2  4.262962e+12        5642549      F  2016-04-29T16:19:04Z   \n",
       "3  8.679512e+11        5642828      F  2016-04-29T17:29:31Z   \n",
       "4  8.841186e+12        5642494      F  2016-04-29T16:07:23Z   \n",
       "\n",
       "         AppointmentDay  Age      Neighbourhood  Scholarship  Hipertension  \\\n",
       "0  2016-04-29T00:00:00Z   62    JARDIM DA PENHA            0             1   \n",
       "1  2016-04-29T00:00:00Z   56    JARDIM DA PENHA            0             0   \n",
       "2  2016-04-29T00:00:00Z   62      MATA DA PRAIA            0             0   \n",
       "3  2016-04-29T00:00:00Z    8  PONTAL DE CAMBURI            0             0   \n",
       "4  2016-04-29T00:00:00Z   56    JARDIM DA PENHA            0             1   \n",
       "\n",
       "   Diabetes  Alcoholism  Handcap  SMS_received No-show  \n",
       "0         0           0        0             0      No  \n",
       "1         0           0        0             0      No  \n",
       "2         0           0        0             0      No  \n",
       "3         0           0        0             0      No  \n",
       "4         1           0        0             0      No  "
      ]
     },
     "execution_count": 102,
     "metadata": {},
     "output_type": "execute_result"
    }
   ],
   "source": [
    "#loading data and printing the first few rows\n",
    "my_df=pd.read_csv(\"noshowappointments-kagglev2-may-2016.csv\")\n",
    "my_df.head(5)"
   ]
  },
  {
   "cell_type": "markdown",
   "id": "f3d64e2b-04fe-40c3-920d-ac7e35050bcf",
   "metadata": {},
   "source": [
    "Our data is successfully read in pandas dataframe.Ready for wrangling and analysis."
   ]
  },
  {
   "cell_type": "code",
   "execution_count": 103,
   "id": "0bc42ecb-4d35-40f6-baa4-c4393c2e422b",
   "metadata": {},
   "outputs": [
    {
     "data": {
      "text/html": [
       "<div>\n",
       "<style scoped>\n",
       "    .dataframe tbody tr th:only-of-type {\n",
       "        vertical-align: middle;\n",
       "    }\n",
       "\n",
       "    .dataframe tbody tr th {\n",
       "        vertical-align: top;\n",
       "    }\n",
       "\n",
       "    .dataframe thead th {\n",
       "        text-align: right;\n",
       "    }\n",
       "</style>\n",
       "<table border=\"1\" class=\"dataframe\">\n",
       "  <thead>\n",
       "    <tr style=\"text-align: right;\">\n",
       "      <th></th>\n",
       "      <th>PatientId</th>\n",
       "      <th>AppointmentID</th>\n",
       "      <th>Age</th>\n",
       "      <th>Scholarship</th>\n",
       "      <th>Hipertension</th>\n",
       "      <th>Diabetes</th>\n",
       "      <th>Alcoholism</th>\n",
       "      <th>Handcap</th>\n",
       "      <th>SMS_received</th>\n",
       "    </tr>\n",
       "  </thead>\n",
       "  <tbody>\n",
       "    <tr>\n",
       "      <th>count</th>\n",
       "      <td>1.105270e+05</td>\n",
       "      <td>1.105270e+05</td>\n",
       "      <td>110527.000000</td>\n",
       "      <td>110527.000000</td>\n",
       "      <td>110527.000000</td>\n",
       "      <td>110527.000000</td>\n",
       "      <td>110527.000000</td>\n",
       "      <td>110527.000000</td>\n",
       "      <td>110527.000000</td>\n",
       "    </tr>\n",
       "    <tr>\n",
       "      <th>mean</th>\n",
       "      <td>1.474963e+14</td>\n",
       "      <td>5.675305e+06</td>\n",
       "      <td>37.088874</td>\n",
       "      <td>0.098266</td>\n",
       "      <td>0.197246</td>\n",
       "      <td>0.071865</td>\n",
       "      <td>0.030400</td>\n",
       "      <td>0.022248</td>\n",
       "      <td>0.321026</td>\n",
       "    </tr>\n",
       "    <tr>\n",
       "      <th>std</th>\n",
       "      <td>2.560949e+14</td>\n",
       "      <td>7.129575e+04</td>\n",
       "      <td>23.110205</td>\n",
       "      <td>0.297675</td>\n",
       "      <td>0.397921</td>\n",
       "      <td>0.258265</td>\n",
       "      <td>0.171686</td>\n",
       "      <td>0.161543</td>\n",
       "      <td>0.466873</td>\n",
       "    </tr>\n",
       "    <tr>\n",
       "      <th>min</th>\n",
       "      <td>3.921784e+04</td>\n",
       "      <td>5.030230e+06</td>\n",
       "      <td>-1.000000</td>\n",
       "      <td>0.000000</td>\n",
       "      <td>0.000000</td>\n",
       "      <td>0.000000</td>\n",
       "      <td>0.000000</td>\n",
       "      <td>0.000000</td>\n",
       "      <td>0.000000</td>\n",
       "    </tr>\n",
       "    <tr>\n",
       "      <th>25%</th>\n",
       "      <td>4.172614e+12</td>\n",
       "      <td>5.640286e+06</td>\n",
       "      <td>18.000000</td>\n",
       "      <td>0.000000</td>\n",
       "      <td>0.000000</td>\n",
       "      <td>0.000000</td>\n",
       "      <td>0.000000</td>\n",
       "      <td>0.000000</td>\n",
       "      <td>0.000000</td>\n",
       "    </tr>\n",
       "    <tr>\n",
       "      <th>50%</th>\n",
       "      <td>3.173184e+13</td>\n",
       "      <td>5.680573e+06</td>\n",
       "      <td>37.000000</td>\n",
       "      <td>0.000000</td>\n",
       "      <td>0.000000</td>\n",
       "      <td>0.000000</td>\n",
       "      <td>0.000000</td>\n",
       "      <td>0.000000</td>\n",
       "      <td>0.000000</td>\n",
       "    </tr>\n",
       "    <tr>\n",
       "      <th>75%</th>\n",
       "      <td>9.439172e+13</td>\n",
       "      <td>5.725524e+06</td>\n",
       "      <td>55.000000</td>\n",
       "      <td>0.000000</td>\n",
       "      <td>0.000000</td>\n",
       "      <td>0.000000</td>\n",
       "      <td>0.000000</td>\n",
       "      <td>0.000000</td>\n",
       "      <td>1.000000</td>\n",
       "    </tr>\n",
       "    <tr>\n",
       "      <th>max</th>\n",
       "      <td>9.999816e+14</td>\n",
       "      <td>5.790484e+06</td>\n",
       "      <td>115.000000</td>\n",
       "      <td>1.000000</td>\n",
       "      <td>1.000000</td>\n",
       "      <td>1.000000</td>\n",
       "      <td>1.000000</td>\n",
       "      <td>4.000000</td>\n",
       "      <td>1.000000</td>\n",
       "    </tr>\n",
       "  </tbody>\n",
       "</table>\n",
       "</div>"
      ],
      "text/plain": [
       "          PatientId  AppointmentID            Age    Scholarship  \\\n",
       "count  1.105270e+05   1.105270e+05  110527.000000  110527.000000   \n",
       "mean   1.474963e+14   5.675305e+06      37.088874       0.098266   \n",
       "std    2.560949e+14   7.129575e+04      23.110205       0.297675   \n",
       "min    3.921784e+04   5.030230e+06      -1.000000       0.000000   \n",
       "25%    4.172614e+12   5.640286e+06      18.000000       0.000000   \n",
       "50%    3.173184e+13   5.680573e+06      37.000000       0.000000   \n",
       "75%    9.439172e+13   5.725524e+06      55.000000       0.000000   \n",
       "max    9.999816e+14   5.790484e+06     115.000000       1.000000   \n",
       "\n",
       "        Hipertension       Diabetes     Alcoholism        Handcap  \\\n",
       "count  110527.000000  110527.000000  110527.000000  110527.000000   \n",
       "mean        0.197246       0.071865       0.030400       0.022248   \n",
       "std         0.397921       0.258265       0.171686       0.161543   \n",
       "min         0.000000       0.000000       0.000000       0.000000   \n",
       "25%         0.000000       0.000000       0.000000       0.000000   \n",
       "50%         0.000000       0.000000       0.000000       0.000000   \n",
       "75%         0.000000       0.000000       0.000000       0.000000   \n",
       "max         1.000000       1.000000       1.000000       4.000000   \n",
       "\n",
       "        SMS_received  \n",
       "count  110527.000000  \n",
       "mean        0.321026  \n",
       "std         0.466873  \n",
       "min         0.000000  \n",
       "25%         0.000000  \n",
       "50%         0.000000  \n",
       "75%         1.000000  \n",
       "max         1.000000  "
      ]
     },
     "execution_count": 103,
     "metadata": {},
     "output_type": "execute_result"
    }
   ],
   "source": [
    "#getting general description of my_df and parameters of the data\n",
    "my_df.describe()"
   ]
  },
  {
   "cell_type": "markdown",
   "id": "7c311f99-9c4a-4d7e-bfcf-de4140dbd92d",
   "metadata": {},
   "source": [
    "* The average age of the patients is 37.\n",
    "* The Minimum age is -1 which is not realistic because age can not be -ve.\n",
    "* The Oldest patient is 115 years old.\n",
    "* Patients receive less than half of the SMS.\n",
    "* It appears very few patients are alcoholic, diabetic,or are handcap. But hypertensive patients are slightly more compared   to the rest of the conditions."
   ]
  },
  {
   "cell_type": "code",
   "execution_count": 104,
   "id": "83cc0e04-0b8f-45a9-9abb-ad559cb500c2",
   "metadata": {},
   "outputs": [
    {
     "name": "stdout",
     "output_type": "stream",
     "text": [
      "<class 'pandas.core.frame.DataFrame'>\n",
      "RangeIndex: 110527 entries, 0 to 110526\n",
      "Data columns (total 14 columns):\n",
      " #   Column          Non-Null Count   Dtype  \n",
      "---  ------          --------------   -----  \n",
      " 0   PatientId       110527 non-null  float64\n",
      " 1   AppointmentID   110527 non-null  int64  \n",
      " 2   Gender          110527 non-null  object \n",
      " 3   ScheduledDay    110527 non-null  object \n",
      " 4   AppointmentDay  110527 non-null  object \n",
      " 5   Age             110527 non-null  int64  \n",
      " 6   Neighbourhood   110527 non-null  object \n",
      " 7   Scholarship     110527 non-null  int64  \n",
      " 8   Hipertension    110527 non-null  int64  \n",
      " 9   Diabetes        110527 non-null  int64  \n",
      " 10  Alcoholism      110527 non-null  int64  \n",
      " 11  Handcap         110527 non-null  int64  \n",
      " 12  SMS_received    110527 non-null  int64  \n",
      " 13  No-show         110527 non-null  object \n",
      "dtypes: float64(1), int64(8), object(5)\n",
      "memory usage: 11.8+ MB\n"
     ]
    }
   ],
   "source": [
    "#printing overview information of my_df\n",
    "my_df.info()"
   ]
  },
  {
   "cell_type": "markdown",
   "id": "b8944eff-ff4d-44e0-b653-f1adc71e7b60",
   "metadata": {},
   "source": [
    "* The ScheduledDay and the AppointmentDay are object Dtype and not the DayTime format.\n",
    "* The No-show column is an obJect.For use to make meaningful statistcal operations and draw insights it should be changed \n",
    "  to intergers."
   ]
  },
  {
   "cell_type": "code",
   "execution_count": 105,
   "id": "415b7340-115f-46d0-a954-c5db3157b9f9",
   "metadata": {},
   "outputs": [
    {
     "data": {
      "text/plain": [
       "(110527, 14)"
      ]
     },
     "execution_count": 105,
     "metadata": {},
     "output_type": "execute_result"
    }
   ],
   "source": [
    "#checking the shape of my_df\n",
    "my_df.shape"
   ]
  },
  {
   "cell_type": "markdown",
   "id": "c1cfb057-4b26-425a-af7a-da42e19ccf98",
   "metadata": {},
   "source": [
    "* Our dataset has 110527 row and 14 columns."
   ]
  },
  {
   "cell_type": "code",
   "execution_count": 106,
   "id": "89e32525-e74e-4e5c-997a-e773aee805c6",
   "metadata": {},
   "outputs": [
    {
     "data": {
      "text/plain": [
       "0"
      ]
     },
     "execution_count": 106,
     "metadata": {},
     "output_type": "execute_result"
    }
   ],
   "source": [
    "#checking for any duplicates\n",
    "my_df.duplicated().sum()\n"
   ]
  },
  {
   "cell_type": "markdown",
   "id": "e6459ff0-4c61-44fb-a01c-78f9b402eea7",
   "metadata": {},
   "source": [
    " No duplicated values in the dataset"
   ]
  },
  {
   "cell_type": "code",
   "execution_count": 107,
   "id": "3b061a1d-521f-4e06-b58b-96191c98f7ab",
   "metadata": {},
   "outputs": [
    {
     "data": {
      "text/plain": [
       "PatientId          62299\n",
       "AppointmentID     110527\n",
       "Gender                 2\n",
       "ScheduledDay      103549\n",
       "AppointmentDay        27\n",
       "Age                  104\n",
       "Neighbourhood         81\n",
       "Scholarship            2\n",
       "Hipertension           2\n",
       "Diabetes               2\n",
       "Alcoholism             2\n",
       "Handcap                5\n",
       "SMS_received           2\n",
       "No-show                2\n",
       "dtype: int64"
      ]
     },
     "execution_count": 107,
     "metadata": {},
     "output_type": "execute_result"
    }
   ],
   "source": [
    "#getting unique values in every columns\n",
    "my_df.nunique()"
   ]
  },
  {
   "cell_type": "markdown",
   "id": "f0d12334-7936-4543-b84a-185320444c86",
   "metadata": {},
   "source": [
    "* The number of appointments made are more than the patients showing that some patients might have made more than one appointments.\n",
    "* Handcap colunm has 5 different values.It should have two for proper analysis."
   ]
  },
  {
   "cell_type": "code",
   "execution_count": 108,
   "id": "5d14ad5d-8bdf-4905-8730-3f366131ef4f",
   "metadata": {},
   "outputs": [
    {
     "data": {
      "text/plain": [
       "PatientId         0\n",
       "AppointmentID     0\n",
       "Gender            0\n",
       "ScheduledDay      0\n",
       "AppointmentDay    0\n",
       "Age               0\n",
       "Neighbourhood     0\n",
       "Scholarship       0\n",
       "Hipertension      0\n",
       "Diabetes          0\n",
       "Alcoholism        0\n",
       "Handcap           0\n",
       "SMS_received      0\n",
       "No-show           0\n",
       "dtype: int64"
      ]
     },
     "execution_count": 108,
     "metadata": {},
     "output_type": "execute_result"
    }
   ],
   "source": [
    "# Number of null values.\n",
    "my_df.isnull().sum()"
   ]
  },
  {
   "cell_type": "markdown",
   "id": "65180014-60c5-4dbf-aeb1-f7f7878ad0a9",
   "metadata": {},
   "source": [
    "we have no null values in the dataset"
   ]
  },
  {
   "cell_type": "markdown",
   "id": "0df3cb70-e426-489c-b8ce-936ac44224fa",
   "metadata": {
    "tags": []
   },
   "source": [
    "### Data cleaning."
   ]
  },
  {
   "cell_type": "markdown",
   "id": "d8d1bb07-ea20-45fb-80fe-7a604c895008",
   "metadata": {},
   "source": [
    "After getting a general overview of our dataset now we proceed to the phase of cleaning it and checking every column by performing some operations to get it ready for analysis."
   ]
  },
  {
   "cell_type": "code",
   "execution_count": 109,
   "id": "a190fc2b-047c-4d3f-a20f-a36f9b303d40",
   "metadata": {},
   "outputs": [
    {
     "data": {
      "text/plain": [
       "Index(['PatientId', 'AppointmentID', 'Gender', 'ScheduledDay',\n",
       "       'AppointmentDay', 'Age', 'Neighbourhood', 'Scholarship', 'Hipertension',\n",
       "       'Diabetes', 'Alcoholism', 'Handcap', 'SMS_received', 'No-show'],\n",
       "      dtype='object')"
      ]
     },
     "execution_count": 109,
     "metadata": {},
     "output_type": "execute_result"
    }
   ],
   "source": [
    "my_df.columns"
   ]
  },
  {
   "cell_type": "markdown",
   "id": "13db9488-a74b-4596-9ed1-820b710ba582",
   "metadata": {},
   "source": [
    "The column titles case should be in lowercase and \"-\" be replaced by \"_\"  for easier working with the dataset."
   ]
  },
  {
   "cell_type": "code",
   "execution_count": 110,
   "id": "a4c07978-fef1-43c1-a79a-8d423c806859",
   "metadata": {},
   "outputs": [
    {
     "data": {
      "text/html": [
       "<div>\n",
       "<style scoped>\n",
       "    .dataframe tbody tr th:only-of-type {\n",
       "        vertical-align: middle;\n",
       "    }\n",
       "\n",
       "    .dataframe tbody tr th {\n",
       "        vertical-align: top;\n",
       "    }\n",
       "\n",
       "    .dataframe thead th {\n",
       "        text-align: right;\n",
       "    }\n",
       "</style>\n",
       "<table border=\"1\" class=\"dataframe\">\n",
       "  <thead>\n",
       "    <tr style=\"text-align: right;\">\n",
       "      <th></th>\n",
       "      <th>patientid</th>\n",
       "      <th>appointmentid</th>\n",
       "      <th>gender</th>\n",
       "      <th>scheduledday</th>\n",
       "      <th>appointmentday</th>\n",
       "      <th>age</th>\n",
       "      <th>neighbourhood</th>\n",
       "      <th>scholarship</th>\n",
       "      <th>hipertension</th>\n",
       "      <th>diabetes</th>\n",
       "      <th>alcoholism</th>\n",
       "      <th>handcap</th>\n",
       "      <th>sms_received</th>\n",
       "      <th>no_show</th>\n",
       "    </tr>\n",
       "  </thead>\n",
       "  <tbody>\n",
       "    <tr>\n",
       "      <th>0</th>\n",
       "      <td>2.987250e+13</td>\n",
       "      <td>5642903</td>\n",
       "      <td>F</td>\n",
       "      <td>2016-04-29T18:38:08Z</td>\n",
       "      <td>2016-04-29T00:00:00Z</td>\n",
       "      <td>62</td>\n",
       "      <td>JARDIM DA PENHA</td>\n",
       "      <td>0</td>\n",
       "      <td>1</td>\n",
       "      <td>0</td>\n",
       "      <td>0</td>\n",
       "      <td>0</td>\n",
       "      <td>0</td>\n",
       "      <td>No</td>\n",
       "    </tr>\n",
       "    <tr>\n",
       "      <th>1</th>\n",
       "      <td>5.589978e+14</td>\n",
       "      <td>5642503</td>\n",
       "      <td>M</td>\n",
       "      <td>2016-04-29T16:08:27Z</td>\n",
       "      <td>2016-04-29T00:00:00Z</td>\n",
       "      <td>56</td>\n",
       "      <td>JARDIM DA PENHA</td>\n",
       "      <td>0</td>\n",
       "      <td>0</td>\n",
       "      <td>0</td>\n",
       "      <td>0</td>\n",
       "      <td>0</td>\n",
       "      <td>0</td>\n",
       "      <td>No</td>\n",
       "    </tr>\n",
       "  </tbody>\n",
       "</table>\n",
       "</div>"
      ],
      "text/plain": [
       "      patientid  appointmentid gender          scheduledday  \\\n",
       "0  2.987250e+13        5642903      F  2016-04-29T18:38:08Z   \n",
       "1  5.589978e+14        5642503      M  2016-04-29T16:08:27Z   \n",
       "\n",
       "         appointmentday  age    neighbourhood  scholarship  hipertension  \\\n",
       "0  2016-04-29T00:00:00Z   62  JARDIM DA PENHA            0             1   \n",
       "1  2016-04-29T00:00:00Z   56  JARDIM DA PENHA            0             0   \n",
       "\n",
       "   diabetes  alcoholism  handcap  sms_received no_show  \n",
       "0         0           0        0             0      No  \n",
       "1         0           0        0             0      No  "
      ]
     },
     "execution_count": 110,
     "metadata": {},
     "output_type": "execute_result"
    }
   ],
   "source": [
    "#renaming the columns and confirming change\n",
    "my_df.rename(columns=lambda x: x.strip().lower().replace(\"-\", \"_\"), inplace=True)\n",
    "my_df.head(2)"
   ]
  },
  {
   "cell_type": "markdown",
   "id": "6479f206-4f0a-4c2b-8200-92a5670c9799",
   "metadata": {},
   "source": [
    "Our columns have been successfully been renamed properly."
   ]
  },
  {
   "cell_type": "code",
   "execution_count": 111,
   "id": "fe40c38a-d77f-4985-a166-ce89b0df8d7f",
   "metadata": {},
   "outputs": [
    {
     "data": {
      "text/plain": [
       "Index(['gender', 'scheduledday', 'appointmentday', 'age', 'neighbourhood',\n",
       "       'scholarship', 'hipertension', 'diabetes', 'alcoholism', 'handcap',\n",
       "       'sms_received', 'no_show'],\n",
       "      dtype='object')"
      ]
     },
     "execution_count": 111,
     "metadata": {},
     "output_type": "execute_result"
    }
   ],
   "source": [
    "# Dropping the patientid and appointmentid columns because they will not be needful for our analysis.\n",
    "my_df.drop(['patientid', 'appointmentid'], axis = 1, inplace = True)\n",
    "my_df.columns"
   ]
  },
  {
   "cell_type": "code",
   "execution_count": 112,
   "id": "c7cf5acc-d67b-4c82-a1f2-b488335c2046",
   "metadata": {},
   "outputs": [
    {
     "data": {
      "text/html": [
       "<div>\n",
       "<style scoped>\n",
       "    .dataframe tbody tr th:only-of-type {\n",
       "        vertical-align: middle;\n",
       "    }\n",
       "\n",
       "    .dataframe tbody tr th {\n",
       "        vertical-align: top;\n",
       "    }\n",
       "\n",
       "    .dataframe thead th {\n",
       "        text-align: right;\n",
       "    }\n",
       "</style>\n",
       "<table border=\"1\" class=\"dataframe\">\n",
       "  <thead>\n",
       "    <tr style=\"text-align: right;\">\n",
       "      <th></th>\n",
       "      <th>gender</th>\n",
       "      <th>scheduledday</th>\n",
       "      <th>appointmentday</th>\n",
       "      <th>age</th>\n",
       "      <th>neighbourhood</th>\n",
       "      <th>scholarship</th>\n",
       "      <th>hipertension</th>\n",
       "      <th>diabetes</th>\n",
       "      <th>alcoholism</th>\n",
       "      <th>handcap</th>\n",
       "      <th>sms_received</th>\n",
       "      <th>no_show</th>\n",
       "    </tr>\n",
       "  </thead>\n",
       "  <tbody>\n",
       "    <tr>\n",
       "      <th>0</th>\n",
       "      <td>F</td>\n",
       "      <td>2016-04-29T18:38:08Z</td>\n",
       "      <td>2016-04-29T00:00:00Z</td>\n",
       "      <td>62</td>\n",
       "      <td>JARDIM DA PENHA</td>\n",
       "      <td>0</td>\n",
       "      <td>1</td>\n",
       "      <td>0</td>\n",
       "      <td>0</td>\n",
       "      <td>0</td>\n",
       "      <td>0</td>\n",
       "      <td>No</td>\n",
       "    </tr>\n",
       "  </tbody>\n",
       "</table>\n",
       "</div>"
      ],
      "text/plain": [
       "  gender          scheduledday        appointmentday  age    neighbourhood  \\\n",
       "0      F  2016-04-29T18:38:08Z  2016-04-29T00:00:00Z   62  JARDIM DA PENHA   \n",
       "\n",
       "   scholarship  hipertension  diabetes  alcoholism  handcap  sms_received  \\\n",
       "0            0             1         0           0        0             0   \n",
       "\n",
       "  no_show  \n",
       "0      No  "
      ]
     },
     "execution_count": 112,
     "metadata": {},
     "output_type": "execute_result"
    }
   ],
   "source": [
    "#confirming if columns were dropped\n",
    "my_df.head(1)"
   ]
  },
  {
   "cell_type": "markdown",
   "id": "67f9c9c9-eacc-464f-bb76-90f4854b82f7",
   "metadata": {},
   "source": [
    " Investigating the gender column closely"
   ]
  },
  {
   "cell_type": "code",
   "execution_count": 113,
   "id": "a028f3bf-91dd-4236-989b-540da2db520c",
   "metadata": {},
   "outputs": [
    {
     "data": {
      "text/plain": [
       "array(['F', 'M'], dtype=object)"
      ]
     },
     "execution_count": 113,
     "metadata": {},
     "output_type": "execute_result"
    }
   ],
   "source": [
    "#checking for the unique values in the gender column.\n",
    "my_df.gender.unique()"
   ]
  },
  {
   "cell_type": "markdown",
   "id": "b6640d77-9e7c-4486-b14d-5d5395e1fe5c",
   "metadata": {},
   "source": [
    "we have to unique values that is the male and female gender."
   ]
  },
  {
   "cell_type": "code",
   "execution_count": 114,
   "id": "c84071d2-e9e6-4aeb-9d44-2d3eb9383045",
   "metadata": {},
   "outputs": [
    {
     "data": {
      "text/html": [
       "<div>\n",
       "<style scoped>\n",
       "    .dataframe tbody tr th:only-of-type {\n",
       "        vertical-align: middle;\n",
       "    }\n",
       "\n",
       "    .dataframe tbody tr th {\n",
       "        vertical-align: top;\n",
       "    }\n",
       "\n",
       "    .dataframe thead th {\n",
       "        text-align: right;\n",
       "    }\n",
       "</style>\n",
       "<table border=\"1\" class=\"dataframe\">\n",
       "  <thead>\n",
       "    <tr style=\"text-align: right;\">\n",
       "      <th></th>\n",
       "      <th>gender</th>\n",
       "      <th>scheduledday</th>\n",
       "      <th>appointmentday</th>\n",
       "      <th>age</th>\n",
       "      <th>neighbourhood</th>\n",
       "      <th>scholarship</th>\n",
       "      <th>hipertension</th>\n",
       "      <th>diabetes</th>\n",
       "      <th>alcoholism</th>\n",
       "      <th>handcap</th>\n",
       "      <th>sms_received</th>\n",
       "      <th>no_show</th>\n",
       "    </tr>\n",
       "  </thead>\n",
       "  <tbody>\n",
       "    <tr>\n",
       "      <th>0</th>\n",
       "      <td>F</td>\n",
       "      <td>2016-04-29T18:38:08Z</td>\n",
       "      <td>2016-04-29T00:00:00Z</td>\n",
       "      <td>62</td>\n",
       "      <td>JARDIM DA PENHA</td>\n",
       "      <td>0</td>\n",
       "      <td>1</td>\n",
       "      <td>0</td>\n",
       "      <td>0</td>\n",
       "      <td>0</td>\n",
       "      <td>0</td>\n",
       "      <td>No</td>\n",
       "    </tr>\n",
       "  </tbody>\n",
       "</table>\n",
       "</div>"
      ],
      "text/plain": [
       "  gender          scheduledday        appointmentday  age    neighbourhood  \\\n",
       "0      F  2016-04-29T18:38:08Z  2016-04-29T00:00:00Z   62  JARDIM DA PENHA   \n",
       "\n",
       "   scholarship  hipertension  diabetes  alcoholism  handcap  sms_received  \\\n",
       "0            0             1         0           0        0             0   \n",
       "\n",
       "  no_show  \n",
       "0      No  "
      ]
     },
     "execution_count": 114,
     "metadata": {},
     "output_type": "execute_result"
    }
   ],
   "source": [
    "my_df.head(1)"
   ]
  },
  {
   "cell_type": "code",
   "execution_count": 115,
   "id": "ce46e216-1b1f-4650-833d-7b63b1cb7cad",
   "metadata": {},
   "outputs": [
    {
     "name": "stdout",
     "output_type": "stream",
     "text": [
      "scheduledday      object\n",
      "appointmentday    object\n",
      "dtype: object\n"
     ]
    }
   ],
   "source": [
    "# checking the data type of the scheduledday and appointment day.\n",
    "print(my_df[['scheduledday', 'appointmentday']].dtypes)\n"
   ]
  },
  {
   "cell_type": "markdown",
   "id": "3aaae2da-5c48-45e5-96c9-1f6d7fcf491b",
   "metadata": {},
   "source": [
    "The date should not be objects but date type"
   ]
  },
  {
   "cell_type": "code",
   "execution_count": 116,
   "id": "a764f238-7957-4598-a976-ea61dd54961d",
   "metadata": {},
   "outputs": [],
   "source": [
    "my_df['scheduledday'] = pd.to_datetime(my_df['scheduledday'])\n",
    "my_df['appointmentday'] = pd.to_datetime(my_df['appointmentday'])\n"
   ]
  },
  {
   "cell_type": "code",
   "execution_count": 117,
   "id": "ab6b87a1-d1f0-420f-9ac3-b32b6309aa57",
   "metadata": {},
   "outputs": [
    {
     "data": {
      "text/plain": [
       "datetime64[ns, UTC]"
      ]
     },
     "execution_count": 117,
     "metadata": {},
     "output_type": "execute_result"
    }
   ],
   "source": [
    "my_df[\"scheduledday\"].dtype"
   ]
  },
  {
   "cell_type": "code",
   "execution_count": 118,
   "id": "0acdd953-5da4-4f06-96a2-f85ffc3548d3",
   "metadata": {},
   "outputs": [
    {
     "data": {
      "text/html": [
       "<div>\n",
       "<style scoped>\n",
       "    .dataframe tbody tr th:only-of-type {\n",
       "        vertical-align: middle;\n",
       "    }\n",
       "\n",
       "    .dataframe tbody tr th {\n",
       "        vertical-align: top;\n",
       "    }\n",
       "\n",
       "    .dataframe thead th {\n",
       "        text-align: right;\n",
       "    }\n",
       "</style>\n",
       "<table border=\"1\" class=\"dataframe\">\n",
       "  <thead>\n",
       "    <tr style=\"text-align: right;\">\n",
       "      <th></th>\n",
       "      <th>gender</th>\n",
       "      <th>scheduledday</th>\n",
       "      <th>appointmentday</th>\n",
       "      <th>age</th>\n",
       "      <th>neighbourhood</th>\n",
       "      <th>scholarship</th>\n",
       "      <th>hipertension</th>\n",
       "      <th>diabetes</th>\n",
       "      <th>alcoholism</th>\n",
       "      <th>handcap</th>\n",
       "      <th>sms_received</th>\n",
       "      <th>no_show</th>\n",
       "    </tr>\n",
       "  </thead>\n",
       "  <tbody>\n",
       "    <tr>\n",
       "      <th>0</th>\n",
       "      <td>F</td>\n",
       "      <td>2016-04-29 18:38:08+00:00</td>\n",
       "      <td>2016-04-29 00:00:00+00:00</td>\n",
       "      <td>62</td>\n",
       "      <td>JARDIM DA PENHA</td>\n",
       "      <td>0</td>\n",
       "      <td>1</td>\n",
       "      <td>0</td>\n",
       "      <td>0</td>\n",
       "      <td>0</td>\n",
       "      <td>0</td>\n",
       "      <td>No</td>\n",
       "    </tr>\n",
       "  </tbody>\n",
       "</table>\n",
       "</div>"
      ],
      "text/plain": [
       "  gender              scheduledday            appointmentday  age  \\\n",
       "0      F 2016-04-29 18:38:08+00:00 2016-04-29 00:00:00+00:00   62   \n",
       "\n",
       "     neighbourhood  scholarship  hipertension  diabetes  alcoholism  handcap  \\\n",
       "0  JARDIM DA PENHA            0             1         0           0        0   \n",
       "\n",
       "   sms_received no_show  \n",
       "0             0      No  "
      ]
     },
     "execution_count": 118,
     "metadata": {},
     "output_type": "execute_result"
    }
   ],
   "source": [
    "my_df.head(1)"
   ]
  },
  {
   "cell_type": "markdown",
   "id": "ca9e992f-5c25-488a-a60d-8443894ddd1f",
   "metadata": {},
   "source": [
    "* Both scheduledday and appointmentday columns have been converted to datetime data type."
   ]
  },
  {
   "cell_type": "code",
   "execution_count": 119,
   "id": "ddb4cf34-2e39-45f2-8878-38c288ef1de4",
   "metadata": {},
   "outputs": [
    {
     "data": {
      "text/html": [
       "<div>\n",
       "<style scoped>\n",
       "    .dataframe tbody tr th:only-of-type {\n",
       "        vertical-align: middle;\n",
       "    }\n",
       "\n",
       "    .dataframe tbody tr th {\n",
       "        vertical-align: top;\n",
       "    }\n",
       "\n",
       "    .dataframe thead th {\n",
       "        text-align: right;\n",
       "    }\n",
       "</style>\n",
       "<table border=\"1\" class=\"dataframe\">\n",
       "  <thead>\n",
       "    <tr style=\"text-align: right;\">\n",
       "      <th></th>\n",
       "      <th>gender</th>\n",
       "      <th>scheduledday</th>\n",
       "      <th>appointmentday</th>\n",
       "      <th>age</th>\n",
       "      <th>neighbourhood</th>\n",
       "      <th>scholarship</th>\n",
       "      <th>hipertension</th>\n",
       "      <th>diabetes</th>\n",
       "      <th>alcoholism</th>\n",
       "      <th>handcap</th>\n",
       "      <th>sms_received</th>\n",
       "      <th>no_show</th>\n",
       "    </tr>\n",
       "  </thead>\n",
       "  <tbody>\n",
       "    <tr>\n",
       "      <th>99832</th>\n",
       "      <td>F</td>\n",
       "      <td>2016-06-06 08:58:13+00:00</td>\n",
       "      <td>2016-06-06 00:00:00+00:00</td>\n",
       "      <td>-1</td>\n",
       "      <td>ROMÃO</td>\n",
       "      <td>0</td>\n",
       "      <td>0</td>\n",
       "      <td>0</td>\n",
       "      <td>0</td>\n",
       "      <td>0</td>\n",
       "      <td>0</td>\n",
       "      <td>No</td>\n",
       "    </tr>\n",
       "  </tbody>\n",
       "</table>\n",
       "</div>"
      ],
      "text/plain": [
       "      gender              scheduledday            appointmentday  age  \\\n",
       "99832      F 2016-06-06 08:58:13+00:00 2016-06-06 00:00:00+00:00   -1   \n",
       "\n",
       "      neighbourhood  scholarship  hipertension  diabetes  alcoholism  handcap  \\\n",
       "99832         ROMÃO            0             0         0           0        0   \n",
       "\n",
       "       sms_received no_show  \n",
       "99832             0      No  "
      ]
     },
     "execution_count": 119,
     "metadata": {},
     "output_type": "execute_result"
    }
   ],
   "source": [
    "#Handling the age column\n",
    "\n",
    "#exploring values below 0\n",
    "my_df[my_df['age'] < 0]"
   ]
  },
  {
   "cell_type": "markdown",
   "id": "e316374a-43d1-4302-a7a1-b1eb9600526d",
   "metadata": {},
   "source": [
    "we found out one patient which age zero which is not realistic we have to drop off this.\n"
   ]
  },
  {
   "cell_type": "code",
   "execution_count": 120,
   "id": "f0c744a7-e59f-421d-986b-55132f5d0a5a",
   "metadata": {},
   "outputs": [
    {
     "data": {
      "text/html": [
       "<div>\n",
       "<style scoped>\n",
       "    .dataframe tbody tr th:only-of-type {\n",
       "        vertical-align: middle;\n",
       "    }\n",
       "\n",
       "    .dataframe tbody tr th {\n",
       "        vertical-align: top;\n",
       "    }\n",
       "\n",
       "    .dataframe thead th {\n",
       "        text-align: right;\n",
       "    }\n",
       "</style>\n",
       "<table border=\"1\" class=\"dataframe\">\n",
       "  <thead>\n",
       "    <tr style=\"text-align: right;\">\n",
       "      <th></th>\n",
       "      <th>gender</th>\n",
       "      <th>scheduledday</th>\n",
       "      <th>appointmentday</th>\n",
       "      <th>age</th>\n",
       "      <th>neighbourhood</th>\n",
       "      <th>scholarship</th>\n",
       "      <th>hipertension</th>\n",
       "      <th>diabetes</th>\n",
       "      <th>alcoholism</th>\n",
       "      <th>handcap</th>\n",
       "      <th>sms_received</th>\n",
       "      <th>no_show</th>\n",
       "    </tr>\n",
       "  </thead>\n",
       "  <tbody>\n",
       "  </tbody>\n",
       "</table>\n",
       "</div>"
      ],
      "text/plain": [
       "Empty DataFrame\n",
       "Columns: [gender, scheduledday, appointmentday, age, neighbourhood, scholarship, hipertension, diabetes, alcoholism, handcap, sms_received, no_show]\n",
       "Index: []"
      ]
     },
     "execution_count": 120,
     "metadata": {},
     "output_type": "execute_result"
    }
   ],
   "source": [
    "# dropping row with negative age and confirming changes\n",
    "my_df.drop(my_df[my_df['age'] < 0].index, inplace = True)\n",
    "my_df[my_df['age'] < 0]"
   ]
  },
  {
   "cell_type": "code",
   "execution_count": 121,
   "id": "19c26711-8d1a-4c5e-96b6-0aa31416ea04",
   "metadata": {},
   "outputs": [
    {
     "name": "stdout",
     "output_type": "stream",
     "text": [
      "<class 'pandas.core.frame.DataFrame'>\n",
      "Int64Index: 110526 entries, 0 to 110526\n",
      "Data columns (total 12 columns):\n",
      " #   Column          Non-Null Count   Dtype              \n",
      "---  ------          --------------   -----              \n",
      " 0   gender          110526 non-null  object             \n",
      " 1   scheduledday    110526 non-null  datetime64[ns, UTC]\n",
      " 2   appointmentday  110526 non-null  datetime64[ns, UTC]\n",
      " 3   age             110526 non-null  int64              \n",
      " 4   neighbourhood   110526 non-null  object             \n",
      " 5   scholarship     110526 non-null  int64              \n",
      " 6   hipertension    110526 non-null  int64              \n",
      " 7   diabetes        110526 non-null  int64              \n",
      " 8   alcoholism      110526 non-null  int64              \n",
      " 9   handcap         110526 non-null  int64              \n",
      " 10  sms_received    110526 non-null  int64              \n",
      " 11  no_show         110526 non-null  object             \n",
      "dtypes: datetime64[ns, UTC](2), int64(7), object(3)\n",
      "memory usage: 11.0+ MB\n"
     ]
    }
   ],
   "source": [
    "my_df.info()"
   ]
  },
  {
   "cell_type": "code",
   "execution_count": 122,
   "id": "5f43427e-9417-4590-b9ac-b4b9cdfe33d6",
   "metadata": {},
   "outputs": [
    {
     "data": {
      "text/plain": [
       "array([0, 1, 2, 3, 4])"
      ]
     },
     "execution_count": 122,
     "metadata": {},
     "output_type": "execute_result"
    }
   ],
   "source": [
    "#cleaning the handcup column.\n",
    "my_df.handcap.unique()\n"
   ]
  },
  {
   "cell_type": "code",
   "execution_count": 123,
   "id": "2f9297a3-7121-4ea2-971d-960e63541cba",
   "metadata": {},
   "outputs": [],
   "source": [
    "#handcap column has got 5 differnt values from what we have seen in the above results. \n",
    "#for us to work properly we need to replace the values 2,3,4 with so that we can have 0 and 1 as our unique values.\n",
    "# filling the bigger values with 1\n",
    "my_df.loc[my_df['handcap'].isin([2, 3, 4]), 'handcap'] = 1"
   ]
  },
  {
   "cell_type": "code",
   "execution_count": 124,
   "id": "77f4f2ff-e6b1-4b3f-90c1-b7d4ed74f45c",
   "metadata": {},
   "outputs": [
    {
     "data": {
      "text/plain": [
       "array([0, 1])"
      ]
     },
     "execution_count": 124,
     "metadata": {},
     "output_type": "execute_result"
    }
   ],
   "source": [
    "#confirming the change.\n",
    "my_df.handcap.unique()"
   ]
  },
  {
   "cell_type": "code",
   "execution_count": 125,
   "id": "eb1f2909-3287-44fc-b44f-32e1e2390870",
   "metadata": {},
   "outputs": [
    {
     "data": {
      "text/plain": [
       "0    108285\n",
       "1      2241\n",
       "Name: handcap, dtype: int64"
      ]
     },
     "execution_count": 125,
     "metadata": {},
     "output_type": "execute_result"
    }
   ],
   "source": [
    "my_df.handcap.value_counts()"
   ]
  },
  {
   "cell_type": "markdown",
   "id": "cbdd0e36-c7c7-42ab-8fd6-87bb976bf4ca",
   "metadata": {},
   "source": [
    "* we have 108285 patients with at list no level of handicap and 2241 patients with some level of handicap.\n",
    "* Not most patients who scheduled appointments are handicap."
   ]
  },
  {
   "cell_type": "code",
   "execution_count": 126,
   "id": "b08ce430-d73a-493b-ba0e-a90ba86bb70c",
   "metadata": {},
   "outputs": [],
   "source": [
    "my_df['handcap'] = my_df['handcap'].replace([0,1],['not_handicap', 'some_level_handicapped'])# replacing 0 and 1 with words that help understand their meaning."
   ]
  },
  {
   "cell_type": "code",
   "execution_count": 127,
   "id": "682c1108-9871-40c6-be3d-0ba80aa000d3",
   "metadata": {},
   "outputs": [
    {
     "data": {
      "text/plain": [
       "0    102583\n",
       "1      7943\n",
       "Name: diabetes, dtype: int64"
      ]
     },
     "execution_count": 127,
     "metadata": {},
     "output_type": "execute_result"
    }
   ],
   "source": [
    "my_df.diabetes.value_counts()"
   ]
  },
  {
   "cell_type": "markdown",
   "id": "c9fdcdaa-5d25-4547-afb8-912fb141b2e6",
   "metadata": {},
   "source": [
    "* Not most patients who scheduled appountments are diabetic."
   ]
  },
  {
   "cell_type": "code",
   "execution_count": 128,
   "id": "0d589831-7a27-4c7a-995e-429611e115fb",
   "metadata": {},
   "outputs": [],
   "source": [
    "my_df.loc[my_df['handcap'].isin([2, 3, 4]), 'handcap'] = 1"
   ]
  },
  {
   "cell_type": "code",
   "execution_count": 129,
   "id": "826188a3-bd53-4eef-a60e-2c07bad2c40a",
   "metadata": {},
   "outputs": [],
   "source": [
    "#replacing the 0 and 1 values with more clear words for proper understanding.\n",
    "my_df['diabetes'] = my_df['diabetes'].replace([0,1],['not_diabetic', 'diabetic'])"
   ]
  },
  {
   "cell_type": "code",
   "execution_count": 130,
   "id": "51ab55d4-00b6-4cd1-aea1-f2175321eb5e",
   "metadata": {},
   "outputs": [
    {
     "data": {
      "text/plain": [
       "0    88725\n",
       "1    21801\n",
       "Name: hipertension, dtype: int64"
      ]
     },
     "execution_count": 130,
     "metadata": {},
     "output_type": "execute_result"
    }
   ],
   "source": [
    "my_df.hipertension.value_counts() # finding the number of patients who scheduled appointments and are hypertensive and are not hypertensive."
   ]
  },
  {
   "cell_type": "markdown",
   "id": "4d600ff7-6014-4cd8-9175-b88429c9ad90",
   "metadata": {},
   "source": [
    "* Not most patients who scheduled appointments have hypertension.\n",
    "* In comparison to diabetes most patients have hypertension than diabetes."
   ]
  },
  {
   "cell_type": "code",
   "execution_count": 131,
   "id": "8ebdfb7b-5df0-49c4-bf95-3d238bb96200",
   "metadata": {},
   "outputs": [],
   "source": [
    "#Replacing 0 $ 1 with clear words for understanding.\n",
    "my_df['hipertension'] = my_df['hipertension'].replace([0,1],['not_hipertensive', 'hipertensive'])"
   ]
  },
  {
   "cell_type": "code",
   "execution_count": 132,
   "id": "626b5e8f-1fd7-4318-bc8c-c27feda2caf0",
   "metadata": {},
   "outputs": [
    {
     "data": {
      "text/plain": [
       "not_hipertensive    88725\n",
       "hipertensive        21801\n",
       "Name: hipertension, dtype: int64"
      ]
     },
     "execution_count": 132,
     "metadata": {},
     "output_type": "execute_result"
    }
   ],
   "source": [
    "#confirming change\n",
    "my_df.hipertension.value_counts()"
   ]
  },
  {
   "cell_type": "code",
   "execution_count": 133,
   "id": "0892bef9-4b9a-485b-8729-5233b9b0e9c9",
   "metadata": {},
   "outputs": [
    {
     "data": {
      "text/plain": [
       "0    107166\n",
       "1      3360\n",
       "Name: alcoholism, dtype: int64"
      ]
     },
     "execution_count": 133,
     "metadata": {},
     "output_type": "execute_result"
    }
   ],
   "source": [
    "my_df.alcoholism.value_counts() "
   ]
  },
  {
   "cell_type": "markdown",
   "id": "cfa9b25a-62b0-4292-8ad2-dda613550954",
   "metadata": {},
   "source": [
    "* Not most patients are alcoholic."
   ]
  },
  {
   "cell_type": "code",
   "execution_count": 134,
   "id": "47e8dd4c-7cac-4a8a-875c-465db63e82d5",
   "metadata": {},
   "outputs": [],
   "source": [
    "#replacing the 0 and 1 values with more clear words for proper understanding.\n",
    "my_df['alcoholism'] = my_df['alcoholism'].replace([0,1],['not_alcoholic', 'alcoholic'])"
   ]
  },
  {
   "cell_type": "code",
   "execution_count": 135,
   "id": "674b8c76-f7fc-46b4-8796-1f01e61f2b99",
   "metadata": {},
   "outputs": [
    {
     "data": {
      "text/plain": [
       "not_alcoholic    107166\n",
       "alcoholic          3360\n",
       "Name: alcoholism, dtype: int64"
      ]
     },
     "execution_count": 135,
     "metadata": {},
     "output_type": "execute_result"
    }
   ],
   "source": [
    "my_df.alcoholism.value_counts() # confirming change."
   ]
  },
  {
   "cell_type": "markdown",
   "id": "874a13d2-fa10-433b-a548-f0089f03d8f3",
   "metadata": {},
   "source": [
    "## **Exploratory Data Analysis.**"
   ]
  },
  {
   "cell_type": "markdown",
   "id": "0a1c837f-fc09-4244-892e-569a2ff6de7c",
   "metadata": {},
   "source": [
    "  ###  1. How does gender relate to showing up to the appointment?"
   ]
  },
  {
   "cell_type": "code",
   "execution_count": 136,
   "id": "5b660762-f011-4f31-99fe-2b9f52c622dd",
   "metadata": {},
   "outputs": [
    {
     "data": {
      "text/plain": [
       "F    71839\n",
       "M    38687\n",
       "Name: gender, dtype: int64"
      ]
     },
     "execution_count": 136,
     "metadata": {},
     "output_type": "execute_result"
    }
   ],
   "source": [
    "Gender_df=my_df.gender.value_counts()\n",
    "Gender_df"
   ]
  },
  {
   "cell_type": "code",
   "execution_count": 137,
   "id": "4435c9bd-c28e-4431-8082-a907c36e794d",
   "metadata": {
    "tags": []
   },
   "outputs": [],
   "source": [
    "def My_Barplots(label_1, height_1, label_2, height_2, col_1='r', col_2='b', Title='Title', yLabel='patient count', xLabel=''):\n",
    "    \"\"\"Function plots 2 barplots in a single chart to help  in comparision. \n",
    "        The 1st one takes arguments label_1, height_1, and color red.\n",
    "        The 2nd takes argumens label_2, height_2, and color blue.\n",
    "    \"\"\"\n",
    "    \n",
    "    fig, ax = plt.subplots()\n",
    "    ax.bar(label_1, height_1, label=label_1, color=col_1)\n",
    "    ax.bar(label_2, height_2, label=label_2, color=col_2)\n",
    "    ax.set_title(Title, fontweight='bold')\n",
    "    ax.set_ylabel(yLabel)\n",
    "    ax.set_xlabel(xLabel)\n",
    "    ax.legend()"
   ]
  },
  {
   "cell_type": "code",
   "execution_count": 138,
   "id": "5ed060a7-889a-4692-9989-01e8189d31e7",
   "metadata": {},
   "outputs": [],
   "source": [
    "def category_propotions_function(column_name,df):\n",
    " \n",
    "           \n",
    "    values_show_and_noshow = df.groupby([column_name, 'no_show'])['no_show'].count()\n",
    "    category_values_sum = df.groupby([column_name])['no_show'].count()\n",
    "    category_propotions = values_show_and_noshow / category_values_sum\n",
    "    return category_propotions \n",
    "\n",
    "     # category_Propotions are derived from the proportions_func above.\n",
    "    \"\"\"  \n",
    "        Creates a bar graph with 2 bars to help us visusalize our two values\n",
    "        Arguments:\n",
    "        (string) plt.xlabel ---Label of the first bar (x coordinates)\n",
    "        (string) plt.ylabel--- Average proportion of patients\n",
    "        (string) plt.title--- tittle of the graph combining the {name of the given column} and no_show .\n",
    "        (string) plt.xticks---lables of the 1st and 2nd bars.\n",
    "        (string) plt.legend----helps display the legend on the left side of bar graph.\n",
    "        \n",
    "        Returns:\n",
    "        Bar graph with 2 graphs \"\"\"    \n"
   ]
  },
  {
   "cell_type": "code",
   "execution_count": 139,
   "id": "ddd0e521-afe9-4acc-91bf-98702efc000a",
   "metadata": {},
   "outputs": [],
   "source": [
    "def propotions_plotter(category_propotions, column_name, color1, color2, xLabel_1, xLabel_2):\n",
    "     \n",
    "    \"\"\"    Creates a bar graph with 2 bars to help us visusalize our two values\n",
    "         Arguments:\n",
    "        (string) plt.xlabel ---Label of the first bar (x coordinates)\n",
    "        (string) plt.ylabel--- Average proportion of patients\n",
    "        (string) plt.title--- tittle of the graph combining the {name of the given column} and no_show .\n",
    "        (string) plt.xticks---lables of the 1st and 2nd bars.\n",
    "        (string) plt.legend----helps display the legend on the left side of bar graph.\n",
    "        \n",
    "        Returns:\n",
    "        Bar graph with 2 graphs  \"\"\"\n",
    "          \n",
    "        \n",
    "       \n",
    "    category_propotions.unstack().plot(kind='bar', color=[color1, color2]);\n",
    "    plt.xlabel('');\n",
    "    plt.ylabel('Average proportion of patients')\n",
    "    plt.title(f'{column_name} and no_show', fontsize=12, fontweight='bold')\n",
    "    plt.xticks([0, 1], [xLabel_1, xLabel_2], rotation=0);\n",
    "    plt.legend(labels=['patients showed up', 'Patients didnt show up'], fontsize=14, bbox_to_anchor=(1, 0.6));\n",
    "       \n",
    "        \n",
    "    \n",
    "        "
   ]
  },
  {
   "cell_type": "code",
   "execution_count": 140,
   "id": "92733be5-8bc3-426e-a40d-ab97922351c2",
   "metadata": {},
   "outputs": [
    {
     "data": {
      "image/png": "[encoded data removed]",
      "text/plain": [
       "<Figure size 432x288 with 1 Axes>"
      ]
     },
     "metadata": {},
     "output_type": "display_data"
    }
   ],
   "source": [
    "My_Barplots(label_1=Gender_df.index[0], height_1=Gender_df.values[0], label_2=Gender_df.index[1], height_2=Gender_df.values[1], \n",
    "         Title='Number of M and F patients', xLabel='Gender')"
   ]
  },
  {
   "cell_type": "markdown",
   "id": "48b5bd21-780e-4db8-9744-5a6f36c76373",
   "metadata": {},
   "source": [
    "* We have 71840 females who scheduled for appointments.\n",
    "* we have 38687 males who scheduled for appointments.\n",
    "* Our dataset has most of the patients who made appointments were female."
   ]
  },
  {
   "cell_type": "code",
   "execution_count": 141,
   "id": "bd5176dc-b507-4649-ab6f-d113c1a7a2e9",
   "metadata": {},
   "outputs": [
    {
     "data": {
      "image/png": "[encoded data removed]",
      "text/plain": [
       "<Figure size 432x288 with 1 Axes>"
      ]
     },
     "metadata": {},
     "output_type": "display_data"
    }
   ],
   "source": [
    "sns.countplot(x = 'gender', data = my_df)\n",
    "plt.title(\"Gender Distribution\")\n",
    "plt.show()"
   ]
  },
  {
   "cell_type": "code",
   "execution_count": 142,
   "id": "6100b5ca-acaf-4306-986d-5c64770a7a06",
   "metadata": {},
   "outputs": [
    {
     "data": {
      "image/png": "[encoded data removed]",
      "text/plain": [
       "<Figure size 432x288 with 1 Axes>"
      ]
     },
     "metadata": {},
     "output_type": "display_data"
    }
   ],
   "source": [
    "# plotting count plot of gender distribution vs age from our dataset.\n",
    "sns.boxplot(x = 'gender', y = 'age', data = my_df)\n",
    "plt.title(\"Gender distribution against age\")\n",
    "plt.show()"
   ]
  },
  {
   "cell_type": "markdown",
   "id": "52f77117-eb88-410f-8a62-820dc925a4a4",
   "metadata": {},
   "source": [
    "There is some outlier in the female gender."
   ]
  },
  {
   "cell_type": "code",
   "execution_count": 143,
   "id": "99a2a16b-47fb-45d0-992e-1d13266a4f75",
   "metadata": {},
   "outputs": [
    {
     "data": {
      "text/plain": [
       "No     88207\n",
       "Yes    22319\n",
       "Name: no_show, dtype: int64"
      ]
     },
     "execution_count": 143,
     "metadata": {},
     "output_type": "execute_result"
    }
   ],
   "source": [
    "my_df['no_show'].value_counts()"
   ]
  },
  {
   "cell_type": "code",
   "execution_count": 144,
   "id": "d6b9a12f-0f4b-4999-8f50-f0e5a96dc55b",
   "metadata": {},
   "outputs": [
    {
     "data": {
      "image/png": "[encoded data removed]",
      "text/plain": [
       "<Figure size 432x288 with 1 Axes>"
      ]
     },
     "metadata": {},
     "output_type": "display_data"
    }
   ],
   "source": [
    "#plotting chart to visualize \n",
    "sns.countplot(x = 'no_show', data = my_df)\n",
    "plt.title(\"show and no_show distribution\")\n",
    "plt.show()"
   ]
  },
  {
   "cell_type": "markdown",
   "id": "276c83a3-f4c2-4e9a-83da-6f9553a5faac",
   "metadata": {},
   "source": [
    "* Almost 80 % of the patients who scheduled for appointments showed up while almost 20% did not show up for their appointment.\n",
    "* After getting this what portion of this is male and female?"
   ]
  },
  {
   "cell_type": "code",
   "execution_count": 145,
   "id": "cb893fba-ce90-4d76-a543-d6866565b11a",
   "metadata": {},
   "outputs": [
    {
     "data": {
      "image/png": "[encoded data removed]",
      "text/plain": [
       "<Figure size 432x288 with 1 Axes>"
      ]
     },
     "metadata": {},
     "output_type": "display_data"
    }
   ],
   "source": [
    "# visualizing the gender distribution considering the no_show column.\n",
    "sns.countplot(x = 'gender', data = my_df, hue = 'no_show')\n",
    "plt.title('gender destribution considering the no_show colunmn')\n",
    "plt.show()"
   ]
  },
  {
   "cell_type": "markdown",
   "id": "a0436630-9fd9-4f95-88d6-d9e196e2caa5",
   "metadata": {},
   "source": [
    "* About 58000 female patients showed up for their appointments compared to about 30000 male patients.\n",
    "* About 15000 female patient did not show up for their scheduled appointments compared to about 8000 of male patients.\n",
    "* It shoud be noted that we had a larger percentage of female patients scheduling apppointments compared to male patients which might be affecting the above outcome."
   ]
  },
  {
   "cell_type": "code",
   "execution_count": 146,
   "id": "fd17549a-894f-44ab-a698-c186338225e5",
   "metadata": {},
   "outputs": [
    {
     "data": {
      "text/plain": [
       "gender  no_show\n",
       "F       No         0.796851\n",
       "        Yes        0.203149\n",
       "M       No         0.800321\n",
       "        Yes        0.199679\n",
       "Name: no_show, dtype: float64"
      ]
     },
     "execution_count": 146,
     "metadata": {},
     "output_type": "execute_result"
    }
   ],
   "source": [
    "# using propotions.\n",
    "proportions=category_propotions_function(\"gender\", my_df)\n",
    "proportions"
   ]
  },
  {
   "cell_type": "code",
   "execution_count": 147,
   "id": "14b9bd0b-11d4-41cc-b8c1-b2f744f133c6",
   "metadata": {},
   "outputs": [
    {
     "data": {
      "image/png": "[encoded data removed]",
      "text/plain": [
       "<Figure size 432x288 with 1 Axes>"
      ]
     },
     "metadata": {},
     "output_type": "display_data"
    }
   ],
   "source": [
    "propotions_plotter(proportions, 'plot of gender', 'c', 'k', 'F', 'M')"
   ]
  },
  {
   "cell_type": "markdown",
   "id": "dfacf524-952e-463a-ba7b-230e8eba6a30",
   "metadata": {},
   "source": [
    "* The propotion of male and female genders who showed up for their appoints are both around 80%\n",
    "* Gender did not affect the no-show up."
   ]
  },
  {
   "cell_type": "markdown",
   "id": "88914864-d982-463f-b9c5-53f9942216d9",
   "metadata": {},
   "source": [
    "### 2. Does having a particular disease have a relationship with showing up for the appointment?"
   ]
  },
  {
   "cell_type": "code",
   "execution_count": 148,
   "id": "c70cbe8a-5888-492a-bd4f-bc42cd00e5d8",
   "metadata": {},
   "outputs": [
    {
     "data": {
      "image/png": "[encoded data removed]",
      "text/plain": [
       "<Figure size 1080x720 with 4 Axes>"
      ]
     },
     "metadata": {},
     "output_type": "display_data"
    }
   ],
   "source": [
    "# plotting graphs of particular deseases vs no_show column.\n",
    "plt.figure(figsize=(15,10))\n",
    "plt.subplot(2,2,1)\n",
    "sns.countplot(x = 'hipertension', data = my_df, hue= 'no_show')\n",
    "plt.subplot(2,2,2)\n",
    "sns.countplot(x = 'diabetes', data = my_df, hue= 'no_show')\n",
    "plt.subplot(2,2,3)\n",
    "sns.countplot(x = 'alcoholism', data = my_df, hue= 'no_show')\n",
    "plt.subplot(2,2,4)\n",
    "sns.countplot(x = 'handcap', data = my_df, hue= 'no_show')\n",
    "plt.show()\n"
   ]
  },
  {
   "cell_type": "markdown",
   "id": "efc800db-3f22-430f-a757-93b4ad80bcdb",
   "metadata": {},
   "source": [
    "* Having some health condition did not affect showing up for a scheduled appoint.\n",
    "* Further investigation using proportions needs to be done to get clear insights how different proportion catergories showed up or did not show up. "
   ]
  },
  {
   "cell_type": "code",
   "execution_count": 149,
   "id": "ea1e4c6e-7beb-4bbd-bc1d-83280ca0c772",
   "metadata": {},
   "outputs": [
    {
     "data": {
      "text/plain": [
       "hipertension      no_show\n",
       "hipertensive      No         0.826980\n",
       "                  Yes        0.173020\n",
       "not_hipertensive  No         0.790961\n",
       "                  Yes        0.209039\n",
       "Name: no_show, dtype: float64"
      ]
     },
     "execution_count": 149,
     "metadata": {},
     "output_type": "execute_result"
    }
   ],
   "source": [
    "proportions=category_propotions_function(\"hipertension\", my_df)\n",
    "proportions"
   ]
  },
  {
   "cell_type": "code",
   "execution_count": 150,
   "id": "8aecf150-9662-45b2-b7f8-134e3e857229",
   "metadata": {
    "tags": []
   },
   "outputs": [
    {
     "data": {
      "image/png": "[encoded data removed]",
      "text/plain": [
       "<Figure size 432x288 with 1 Axes>"
      ]
     },
     "metadata": {},
     "output_type": "display_data"
    }
   ],
   "source": [
    "propotions_plotter(proportions, 'hypertension disease', 'b', 'g', 'patients not hypertensive', 'hypertensive patients')"
   ]
  },
  {
   "cell_type": "markdown",
   "id": "34c4aa74-86c1-4271-a4aa-671a1f993289",
   "metadata": {},
   "source": [
    "* About 82% of Patients suffering from hypertension showed up for their appoints compared to 79% of patients without hypertension."
   ]
  },
  {
   "cell_type": "code",
   "execution_count": 151,
   "id": "96547a7a-a7bb-436c-bbe9-2d04f853a4d3",
   "metadata": {},
   "outputs": [
    {
     "data": {
      "text/plain": [
       "diabetes      no_show\n",
       "diabetic      No         0.819967\n",
       "              Yes        0.180033\n",
       "not_diabetic  No         0.796370\n",
       "              Yes        0.203630\n",
       "Name: no_show, dtype: float64"
      ]
     },
     "execution_count": 151,
     "metadata": {},
     "output_type": "execute_result"
    }
   ],
   "source": [
    "proportions=category_propotions_function(\"diabetes\", my_df)\n",
    "proportions"
   ]
  },
  {
   "cell_type": "markdown",
   "id": "c718fcf4-279b-405e-8c9d-7ae57ee531ce",
   "metadata": {},
   "source": [
    "* About 82% of diabetic patients showed up for their scheduled appointments compared to 79% of non-diabetic patients."
   ]
  },
  {
   "cell_type": "code",
   "execution_count": 152,
   "id": "617db2fc-d5e2-4db3-bd3a-0c37772c1937",
   "metadata": {},
   "outputs": [
    {
     "data": {
      "image/png": "[encoded data removed]",
      "text/plain": [
       "<Figure size 432x288 with 1 Axes>"
      ]
     },
     "metadata": {},
     "output_type": "display_data"
    }
   ],
   "source": [
    "propotions_plotter(proportions, 'Diabetes disease', 'y', 'm', 'non-diabetic patients', 'diabetic patients')"
   ]
  },
  {
   "cell_type": "markdown",
   "id": "28f0a2f4-15b8-4e10-b56c-a0222448ac0b",
   "metadata": {},
   "source": [
    " ### 3. Does one's age relate to not showing up for the appointment?"
   ]
  },
  {
   "cell_type": "code",
   "execution_count": 153,
   "id": "ce712f1b-9f6e-4937-8db4-7968e6418992",
   "metadata": {},
   "outputs": [
    {
     "data": {
      "text/plain": [
       "115    5\n",
       "102    2\n",
       "Name: age, dtype: int64"
      ]
     },
     "execution_count": 153,
     "metadata": {},
     "output_type": "execute_result"
    }
   ],
   "source": [
    "# We try to get the outliers of the ages >100.\n",
    "my_df.query('age > 100').age.value_counts()"
   ]
  },
  {
   "cell_type": "code",
   "execution_count": 154,
   "id": "6f05c36b-cee6-440a-aeab-07887f712d0c",
   "metadata": {},
   "outputs": [],
   "source": [
    "\n",
    "my_df.drop(my_df[my_df['age'] >100].index, inplace = True)\n"
   ]
  },
  {
   "cell_type": "code",
   "execution_count": 155,
   "id": "4a5276fa-1caa-40d6-b401-a76ea077cc97",
   "metadata": {},
   "outputs": [
    {
     "data": {
      "text/plain": [
       "100"
      ]
     },
     "execution_count": 155,
     "metadata": {},
     "output_type": "execute_result"
    }
   ],
   "source": [
    "maximum_age = my_df.age.max()\n",
    "maximum_age"
   ]
  },
  {
   "cell_type": "code",
   "execution_count": 156,
   "id": "80f18a14-2bd9-4e27-84e5-714216255b37",
   "metadata": {},
   "outputs": [],
   "source": [
    "#grouping the ages to age groups.\n",
    "labels = ['0:10', '11:20', '21:30', '31:40', '41:50', '51:60', '61:70','71-80','80+']\n",
    "bins = [0, 10, 20, 30, 40, 50, 60, 70, 80, maximum_age]\n",
    "\n",
    "age_grouping = pd.cut(my_df['age'], bins=bins, labels=labels)\n",
    "my_df.insert(10, 'age_grouping', age_grouping)"
   ]
  },
  {
   "cell_type": "code",
   "execution_count": 157,
   "id": "9b5af926-ba71-4e61-af78-77797f91ba96",
   "metadata": {},
   "outputs": [
    {
     "data": {
      "image/png": "[encoded data removed]",
      "text/plain": [
       "<Figure size 432x288 with 1 Axes>"
      ]
     },
     "metadata": {},
     "output_type": "display_data"
    }
   ],
   "source": [
    "Patients_sum_inAgeset = my_df.groupby('age_grouping')['no_show'].count()\n",
    "\n",
    "plt.plot(Patients_sum_inAgeset);\n",
    "plt.title('Total # of patients in each age-group', fontsize=15, fontweight='bold');\n",
    "plt.xlabel('Age stage', fontsize=12);\n",
    "plt.ylabel('Number of patients', fontsize=12);\n"
   ]
  },
  {
   "cell_type": "markdown",
   "id": "79149046-3887-4a29-b691-a88a889077f0",
   "metadata": {},
   "source": [
    "* Majority of patients are aged between 35 and 55 years.\n"
   ]
  },
  {
   "cell_type": "markdown",
   "id": "4d8ce125-b354-40b7-9980-247f7abcbb11",
   "metadata": {},
   "source": [
    "### 4. How does one having schorlaship relate to a patient showing up for the appointment?"
   ]
  },
  {
   "cell_type": "code",
   "execution_count": 158,
   "id": "6a2a7302-f71f-41d9-8998-57a8b593a2a7",
   "metadata": {},
   "outputs": [
    {
     "data": {
      "text/plain": [
       "scholarship  no_show\n",
       "0            No         0.801943\n",
       "             Yes        0.198057\n",
       "1            No         0.762637\n",
       "             Yes        0.237363\n",
       "Name: no_show, dtype: float64"
      ]
     },
     "execution_count": 158,
     "metadata": {},
     "output_type": "execute_result"
    }
   ],
   "source": [
    "my_df.groupby('scholarship').no_show.value_counts(normalize=True)"
   ]
  },
  {
   "cell_type": "code",
   "execution_count": 159,
   "id": "29a5a256-5ba9-4bfd-832f-7a5a877cf742",
   "metadata": {},
   "outputs": [],
   "source": [
    "familia_data=my_df.scholarship.value_counts()"
   ]
  },
  {
   "cell_type": "markdown",
   "id": "189a7cd9-f38a-4ce7-a5f8-2601539cb2da",
   "metadata": {},
   "source": [
    "* Most people do not have scholarship."
   ]
  },
  {
   "cell_type": "code",
   "execution_count": 160,
   "id": "364811d3-90d7-410e-ab47-4ade8f3ec74e",
   "metadata": {},
   "outputs": [
    {
     "data": {
      "image/png": "[encoded data removed]",
      "text/plain": [
       "<Figure size 432x288 with 1 Axes>"
      ]
     },
     "metadata": {},
     "output_type": "display_data"
    }
   ],
   "source": [
    "sns.countplot(x=my_df['scholarship'], hue=my_df['no_show']);\n",
    "plt.title('Patient scholarship vs attendence');"
   ]
  },
  {
   "cell_type": "code",
   "execution_count": 161,
   "id": "2bec171c-4862-4e95-a6bd-f3ccf349f9eb",
   "metadata": {},
   "outputs": [
    {
     "data": {
      "image/png": "[encoded data removed]",
      "text/plain": [
       "<Figure size 432x288 with 1 Axes>"
      ]
     },
     "metadata": {},
     "output_type": "display_data"
    }
   ],
   "source": [
    "My_Barplots(label_1=\"not-enrolled\", height_1=familia_data.values[0], label_2=\"patients enrolled\", height_2=familia_data.values[1], \n",
    "         Title='Patient enrollment in Bolisa Familia program', col_1='#2C5F2D', col_2='#76528BFF')"
   ]
  },
  {
   "cell_type": "markdown",
   "id": "14c6e0c2-7e82-4498-829c-1f78d021f355",
   "metadata": {},
   "source": [
    "* 90 % of patients are not enrolled to Bolsa Familia program."
   ]
  },
  {
   "cell_type": "code",
   "execution_count": 162,
   "id": "abfb2679-18f2-4e3e-9d3f-58b35e205a4f",
   "metadata": {},
   "outputs": [
    {
     "data": {
      "text/plain": [
       "scholarship  no_show\n",
       "0            No         0.801943\n",
       "             Yes        0.198057\n",
       "1            No         0.762637\n",
       "             Yes        0.237363\n",
       "Name: no_show, dtype: float64"
      ]
     },
     "execution_count": 162,
     "metadata": {},
     "output_type": "execute_result"
    }
   ],
   "source": [
    "proportions=category_propotions_function(\"scholarship\", my_df)\n",
    "proportions"
   ]
  },
  {
   "cell_type": "code",
   "execution_count": 163,
   "id": "f8364569-f568-447e-b02f-262ba229294e",
   "metadata": {},
   "outputs": [
    {
     "data": {
      "image/png": "[encoded data removed]",
      "text/plain": [
       "<Figure size 432x288 with 1 Axes>"
      ]
     },
     "metadata": {},
     "output_type": "display_data"
    }
   ],
   "source": [
    "propotions_plotter(proportions, 'scholarship enrollment', 'c', 'k', 'patients not enrolled', 'patients enrolled')"
   ]
  },
  {
   "cell_type": "markdown",
   "id": "9c0c9a8c-618d-45f5-bada-b590e68c7b3c",
   "metadata": {},
   "source": [
    "* 80% of patients with no scholarship showed up for their appointments while 76% of those with scholarship did  show up.  "
   ]
  },
  {
   "cell_type": "markdown",
   "id": "57d6d0af-cbbe-4a52-afb9-b9b6ad5301d3",
   "metadata": {},
   "source": [
    " ### 5. Does recieving sms relate to one showing up for the appointment?"
   ]
  },
  {
   "cell_type": "code",
   "execution_count": 164,
   "id": "b5f5421c-4079-46f4-ac3b-e28dc6e22989",
   "metadata": {},
   "outputs": [
    {
     "data": {
      "text/plain": [
       "0    75038\n",
       "1    35481\n",
       "Name: sms_received, dtype: int64"
      ]
     },
     "execution_count": 164,
     "metadata": {},
     "output_type": "execute_result"
    }
   ],
   "source": [
    "sms_df = my_df['sms_received'].value_counts()\n",
    "sms_df"
   ]
  },
  {
   "cell_type": "code",
   "execution_count": 165,
   "id": "fbc5159d-3365-4957-b968-4f3b57ee9a51",
   "metadata": {},
   "outputs": [
    {
     "data": {
      "image/png": "[encoded data removed]",
      "text/plain": [
       "<Figure size 432x288 with 1 Axes>"
      ]
     },
     "metadata": {},
     "output_type": "display_data"
    }
   ],
   "source": [
    "sns.countplot(x = 'sms_received', data = my_df)\n",
    "plt.title(\"SMS Received Distribution\")\n",
    "plt.show()"
   ]
  },
  {
   "cell_type": "markdown",
   "id": "b5a6fda1-a004-47d1-b7e9-8c1780472e1e",
   "metadata": {},
   "source": [
    "* Over 75000 ptients did not recive sms.\n",
    "* Over 35000 patients received sms."
   ]
  },
  {
   "cell_type": "code",
   "execution_count": 166,
   "id": "5be77465-5068-487a-b149-937eeda822f7",
   "metadata": {},
   "outputs": [
    {
     "data": {
      "text/plain": [
       "sms_received  no_show\n",
       "0             No         0.832991\n",
       "              Yes        0.167009\n",
       "1             No         0.724247\n",
       "              Yes        0.275753\n",
       "Name: no_show, dtype: float64"
      ]
     },
     "execution_count": 166,
     "metadata": {},
     "output_type": "execute_result"
    }
   ],
   "source": [
    "proportions=category_propotions_function(\"sms_received\", my_df)\n",
    "proportions"
   ]
  },
  {
   "cell_type": "code",
   "execution_count": 167,
   "id": "46ed266e-1c7e-485a-ad37-c8864bcd6d04",
   "metadata": {},
   "outputs": [
    {
     "data": {
      "image/png": "[encoded data removed]",
      "text/plain": [
       "<Figure size 432x288 with 1 Axes>"
      ]
     },
     "metadata": {},
     "output_type": "display_data"
    }
   ],
   "source": [
    "propotions_plotter(proportions, 'sms_received', 'c', 'k', 'patients not received-sms', 'patient-received sms')"
   ]
  },
  {
   "cell_type": "markdown",
   "id": "4a7b5615-ad06-4e33-8d87-7ce4a2361dd1",
   "metadata": {},
   "source": [
    "* 80% of patient who did not receive sms showed up compared to 71% of those who did receive messages."
   ]
  },
  {
   "cell_type": "markdown",
   "id": "0b24c9e1-bb19-463b-bbcb-b7283b39ef05",
   "metadata": {},
   "source": [
    " ## **Conclusions**\n",
    "* 1.The proportion of male and female patients that did not show up are pretty much the same.\n",
    "    Therefore, **gender** is not one of the factors which determine if the patient will show up or not. Gender did not have an     effect on showing up or not.\n",
    "\n",
    "* 2.Patient who are **diabetic and hypertensive are more likely to show up** compared to those who are not.This can be         conributed   by the fact that most patient with chronic condition are likely to be more alarmed of their current health conditions.  \n",
    "\n",
    "* 3.Most of the patients did not receive an SMS.However,**if the patient received an SMS, they were more likely to show up**      to the appointment.\n",
    "\n",
    "* 4.80% of patients with no scholarship showed up for their appointments while 76% of those with scholarship did  show up.  \n",
    "* 5.Majority of patients are aged between 35 and 55 years.\n"
   ]
  },
  {
   "cell_type": "markdown",
   "id": "d065e669-6884-4154-888f-578b97039873",
   "metadata": {},
   "source": [
    " ## **Limitations**\n",
    " 1. Females patient in our dataset were almsost twice the males patients."
   ]
  },
  {
   "cell_type": "code",
   "execution_count": null,
   "id": "9d480ba0-5837-422f-a10a-a5d1333d7122",
   "metadata": {},
   "outputs": [],
   "source": []
  }
 ],
 "metadata": {
  "kernelspec": {
   "display_name": "Python 3 (ipykernel)",
   "language": "python",
   "name": "python3"
  },
  "language_info": {
   "codemirror_mode": {
    "name": "ipython",
    "version": 3
   },
   "file_extension": ".py",
   "mimetype": "text/x-python",
   "name": "python",
   "nbconvert_exporter": "python",
   "pygments_lexer": "ipython3",
   "version": "3.8.10"
  }
 },
 "nbformat": 4,
 "nbformat_minor": 5
}
